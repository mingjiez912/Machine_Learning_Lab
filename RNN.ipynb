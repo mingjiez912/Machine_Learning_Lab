{
  "nbformat": 4,
  "nbformat_minor": 0,
  "metadata": {
    "colab": {
      "provenance": [],
      "include_colab_link": true
    },
    "kernelspec": {
      "name": "python3",
      "display_name": "Python 3"
    },
    "language_info": {
      "name": "python"
    }
  },
  "cells": [
    {
      "cell_type": "markdown",
      "metadata": {
        "id": "view-in-github",
        "colab_type": "text"
      },
      "source": [
        "<a href=\"https://colab.research.google.com/github/mingjiez912/Machine_Learning_Lab/blob/main/RNN.ipynb\" target=\"_parent\"><img src=\"https://colab.research.google.com/assets/colab-badge.svg\" alt=\"Open In Colab\"/></a>"
      ]
    },
    {
      "cell_type": "markdown",
      "source": [
        "# 1.) Import an asset price from Yahoo Finance"
      ],
      "metadata": {
        "id": "6dJuZDx9qWeM"
      }
    },
    {
      "cell_type": "code",
      "execution_count": 31,
      "metadata": {
        "colab": {
          "base_uri": "https://localhost:8080/"
        },
        "id": "Y3bcwJb4rp93",
        "outputId": "1ddf5abe-dd3e-4288-ea89-a4615b9f3bd7"
      },
      "outputs": [
        {
          "output_type": "stream",
          "name": "stdout",
          "text": [
            "\r[*********************100%***********************]  1 of 1 completed\n"
          ]
        }
      ],
      "source": [
        "import yfinance as yf\n",
        "import numpy as np\n",
        "import pandas as pd\n",
        "from sklearn.preprocessing import MinMaxScaler\n",
        "from tensorflow.keras.models import Sequential\n",
        "from tensorflow.keras.layers import Dense, LSTM, Dropout\n",
        "\n",
        "stock_data = yf.download(\"MSFT\", start=\"1990-01-01\", end=\"2022-02-21\")\n",
        "\n",
        "# Preprocess data\n",
        "scaled_data = np.array(stock_data[\"Close\"].pct_change().dropna()).reshape(-1,1)\n",
        "\n",
        "# Split data into training and test sets\n",
        "training_data_len = int(len(scaled_data) * 0.8)\n",
        "train_data = scaled_data[0:training_data_len, :]"
      ]
    },
    {
      "cell_type": "code",
      "source": [
        "stock_data"
      ],
      "metadata": {
        "colab": {
          "base_uri": "https://localhost:8080/",
          "height": 455
        },
        "id": "5TmDxN224hbQ",
        "outputId": "135536c3-849b-4b94-a61a-12db5919d4b4"
      },
      "execution_count": 32,
      "outputs": [
        {
          "output_type": "execute_result",
          "data": {
            "text/plain": [
              "                  Open        High         Low       Close   Adj Close  \\\n",
              "Date                                                                     \n",
              "1990-01-02    0.605903    0.616319    0.598090    0.616319    0.384521   \n",
              "1990-01-03    0.621528    0.626736    0.614583    0.619792    0.386687   \n",
              "1990-01-04    0.619792    0.638889    0.616319    0.638021    0.398060   \n",
              "1990-01-05    0.635417    0.638889    0.621528    0.622396    0.388312   \n",
              "1990-01-08    0.621528    0.631944    0.614583    0.631944    0.394269   \n",
              "...                ...         ...         ...         ...         ...   \n",
              "2022-02-14  293.769989  296.760010  291.350006  295.000000  291.531281   \n",
              "2022-02-15  300.010010  300.799988  297.019989  300.470001  296.936981   \n",
              "2022-02-16  298.369995  300.869995  293.679993  299.500000  296.590363   \n",
              "2022-02-17  296.359985  296.799988  290.000000  290.730011  287.905548   \n",
              "2022-02-18  293.049988  293.859985  286.309998  287.929993  285.132721   \n",
              "\n",
              "               Volume  \n",
              "Date                   \n",
              "1990-01-02   53035200  \n",
              "1990-01-03  113774400  \n",
              "1990-01-04  125740800  \n",
              "1990-01-05   69566400  \n",
              "1990-01-08   58982400  \n",
              "...               ...  \n",
              "2022-02-14   36359500  \n",
              "2022-02-15   27058300  \n",
              "2022-02-16   29982100  \n",
              "2022-02-17   32461600  \n",
              "2022-02-18   34264000  \n",
              "\n",
              "[8098 rows x 6 columns]"
            ],
            "text/html": [
              "\n",
              "  <div id=\"df-9d3ac202-1823-42dc-8fda-fd135f1d5478\">\n",
              "    <div class=\"colab-df-container\">\n",
              "      <div>\n",
              "<style scoped>\n",
              "    .dataframe tbody tr th:only-of-type {\n",
              "        vertical-align: middle;\n",
              "    }\n",
              "\n",
              "    .dataframe tbody tr th {\n",
              "        vertical-align: top;\n",
              "    }\n",
              "\n",
              "    .dataframe thead th {\n",
              "        text-align: right;\n",
              "    }\n",
              "</style>\n",
              "<table border=\"1\" class=\"dataframe\">\n",
              "  <thead>\n",
              "    <tr style=\"text-align: right;\">\n",
              "      <th></th>\n",
              "      <th>Open</th>\n",
              "      <th>High</th>\n",
              "      <th>Low</th>\n",
              "      <th>Close</th>\n",
              "      <th>Adj Close</th>\n",
              "      <th>Volume</th>\n",
              "    </tr>\n",
              "    <tr>\n",
              "      <th>Date</th>\n",
              "      <th></th>\n",
              "      <th></th>\n",
              "      <th></th>\n",
              "      <th></th>\n",
              "      <th></th>\n",
              "      <th></th>\n",
              "    </tr>\n",
              "  </thead>\n",
              "  <tbody>\n",
              "    <tr>\n",
              "      <th>1990-01-02</th>\n",
              "      <td>0.605903</td>\n",
              "      <td>0.616319</td>\n",
              "      <td>0.598090</td>\n",
              "      <td>0.616319</td>\n",
              "      <td>0.384521</td>\n",
              "      <td>53035200</td>\n",
              "    </tr>\n",
              "    <tr>\n",
              "      <th>1990-01-03</th>\n",
              "      <td>0.621528</td>\n",
              "      <td>0.626736</td>\n",
              "      <td>0.614583</td>\n",
              "      <td>0.619792</td>\n",
              "      <td>0.386687</td>\n",
              "      <td>113774400</td>\n",
              "    </tr>\n",
              "    <tr>\n",
              "      <th>1990-01-04</th>\n",
              "      <td>0.619792</td>\n",
              "      <td>0.638889</td>\n",
              "      <td>0.616319</td>\n",
              "      <td>0.638021</td>\n",
              "      <td>0.398060</td>\n",
              "      <td>125740800</td>\n",
              "    </tr>\n",
              "    <tr>\n",
              "      <th>1990-01-05</th>\n",
              "      <td>0.635417</td>\n",
              "      <td>0.638889</td>\n",
              "      <td>0.621528</td>\n",
              "      <td>0.622396</td>\n",
              "      <td>0.388312</td>\n",
              "      <td>69566400</td>\n",
              "    </tr>\n",
              "    <tr>\n",
              "      <th>1990-01-08</th>\n",
              "      <td>0.621528</td>\n",
              "      <td>0.631944</td>\n",
              "      <td>0.614583</td>\n",
              "      <td>0.631944</td>\n",
              "      <td>0.394269</td>\n",
              "      <td>58982400</td>\n",
              "    </tr>\n",
              "    <tr>\n",
              "      <th>...</th>\n",
              "      <td>...</td>\n",
              "      <td>...</td>\n",
              "      <td>...</td>\n",
              "      <td>...</td>\n",
              "      <td>...</td>\n",
              "      <td>...</td>\n",
              "    </tr>\n",
              "    <tr>\n",
              "      <th>2022-02-14</th>\n",
              "      <td>293.769989</td>\n",
              "      <td>296.760010</td>\n",
              "      <td>291.350006</td>\n",
              "      <td>295.000000</td>\n",
              "      <td>291.531281</td>\n",
              "      <td>36359500</td>\n",
              "    </tr>\n",
              "    <tr>\n",
              "      <th>2022-02-15</th>\n",
              "      <td>300.010010</td>\n",
              "      <td>300.799988</td>\n",
              "      <td>297.019989</td>\n",
              "      <td>300.470001</td>\n",
              "      <td>296.936981</td>\n",
              "      <td>27058300</td>\n",
              "    </tr>\n",
              "    <tr>\n",
              "      <th>2022-02-16</th>\n",
              "      <td>298.369995</td>\n",
              "      <td>300.869995</td>\n",
              "      <td>293.679993</td>\n",
              "      <td>299.500000</td>\n",
              "      <td>296.590363</td>\n",
              "      <td>29982100</td>\n",
              "    </tr>\n",
              "    <tr>\n",
              "      <th>2022-02-17</th>\n",
              "      <td>296.359985</td>\n",
              "      <td>296.799988</td>\n",
              "      <td>290.000000</td>\n",
              "      <td>290.730011</td>\n",
              "      <td>287.905548</td>\n",
              "      <td>32461600</td>\n",
              "    </tr>\n",
              "    <tr>\n",
              "      <th>2022-02-18</th>\n",
              "      <td>293.049988</td>\n",
              "      <td>293.859985</td>\n",
              "      <td>286.309998</td>\n",
              "      <td>287.929993</td>\n",
              "      <td>285.132721</td>\n",
              "      <td>34264000</td>\n",
              "    </tr>\n",
              "  </tbody>\n",
              "</table>\n",
              "<p>8098 rows × 6 columns</p>\n",
              "</div>\n",
              "      <button class=\"colab-df-convert\" onclick=\"convertToInteractive('df-9d3ac202-1823-42dc-8fda-fd135f1d5478')\"\n",
              "              title=\"Convert this dataframe to an interactive table.\"\n",
              "              style=\"display:none;\">\n",
              "        \n",
              "  <svg xmlns=\"http://www.w3.org/2000/svg\" height=\"24px\"viewBox=\"0 0 24 24\"\n",
              "       width=\"24px\">\n",
              "    <path d=\"M0 0h24v24H0V0z\" fill=\"none\"/>\n",
              "    <path d=\"M18.56 5.44l.94 2.06.94-2.06 2.06-.94-2.06-.94-.94-2.06-.94 2.06-2.06.94zm-11 1L8.5 8.5l.94-2.06 2.06-.94-2.06-.94L8.5 2.5l-.94 2.06-2.06.94zm10 10l.94 2.06.94-2.06 2.06-.94-2.06-.94-.94-2.06-.94 2.06-2.06.94z\"/><path d=\"M17.41 7.96l-1.37-1.37c-.4-.4-.92-.59-1.43-.59-.52 0-1.04.2-1.43.59L10.3 9.45l-7.72 7.72c-.78.78-.78 2.05 0 2.83L4 21.41c.39.39.9.59 1.41.59.51 0 1.02-.2 1.41-.59l7.78-7.78 2.81-2.81c.8-.78.8-2.07 0-2.86zM5.41 20L4 18.59l7.72-7.72 1.47 1.35L5.41 20z\"/>\n",
              "  </svg>\n",
              "      </button>\n",
              "      \n",
              "  <style>\n",
              "    .colab-df-container {\n",
              "      display:flex;\n",
              "      flex-wrap:wrap;\n",
              "      gap: 12px;\n",
              "    }\n",
              "\n",
              "    .colab-df-convert {\n",
              "      background-color: #E8F0FE;\n",
              "      border: none;\n",
              "      border-radius: 50%;\n",
              "      cursor: pointer;\n",
              "      display: none;\n",
              "      fill: #1967D2;\n",
              "      height: 32px;\n",
              "      padding: 0 0 0 0;\n",
              "      width: 32px;\n",
              "    }\n",
              "\n",
              "    .colab-df-convert:hover {\n",
              "      background-color: #E2EBFA;\n",
              "      box-shadow: 0px 1px 2px rgba(60, 64, 67, 0.3), 0px 1px 3px 1px rgba(60, 64, 67, 0.15);\n",
              "      fill: #174EA6;\n",
              "    }\n",
              "\n",
              "    [theme=dark] .colab-df-convert {\n",
              "      background-color: #3B4455;\n",
              "      fill: #D2E3FC;\n",
              "    }\n",
              "\n",
              "    [theme=dark] .colab-df-convert:hover {\n",
              "      background-color: #434B5C;\n",
              "      box-shadow: 0px 1px 3px 1px rgba(0, 0, 0, 0.15);\n",
              "      filter: drop-shadow(0px 1px 2px rgba(0, 0, 0, 0.3));\n",
              "      fill: #FFFFFF;\n",
              "    }\n",
              "  </style>\n",
              "\n",
              "      <script>\n",
              "        const buttonEl =\n",
              "          document.querySelector('#df-9d3ac202-1823-42dc-8fda-fd135f1d5478 button.colab-df-convert');\n",
              "        buttonEl.style.display =\n",
              "          google.colab.kernel.accessAllowed ? 'block' : 'none';\n",
              "\n",
              "        async function convertToInteractive(key) {\n",
              "          const element = document.querySelector('#df-9d3ac202-1823-42dc-8fda-fd135f1d5478');\n",
              "          const dataTable =\n",
              "            await google.colab.kernel.invokeFunction('convertToInteractive',\n",
              "                                                     [key], {});\n",
              "          if (!dataTable) return;\n",
              "\n",
              "          const docLinkHtml = 'Like what you see? Visit the ' +\n",
              "            '<a target=\"_blank\" href=https://colab.research.google.com/notebooks/data_table.ipynb>data table notebook</a>'\n",
              "            + ' to learn more about interactive tables.';\n",
              "          element.innerHTML = '';\n",
              "          dataTable['output_type'] = 'display_data';\n",
              "          await google.colab.output.renderOutput(dataTable, element);\n",
              "          const docLink = document.createElement('div');\n",
              "          docLink.innerHTML = docLinkHtml;\n",
              "          element.appendChild(docLink);\n",
              "        }\n",
              "      </script>\n",
              "    </div>\n",
              "  </div>\n",
              "  "
            ]
          },
          "metadata": {},
          "execution_count": 32
        }
      ]
    },
    {
      "cell_type": "markdown",
      "source": [
        "# 2.) Create your x_train/y_train data so that your RNN uses percentage change data to make a binary forecast where the stock moves up or down the next day\n",
        "# Build an RNN Architecture accordingly"
      ],
      "metadata": {
        "id": "foHoGy9hq3_o"
      }
    },
    {
      "cell_type": "code",
      "source": [
        "x_train = []\n",
        "y_train = []\n",
        "\n",
        "input_size = 5\n",
        "for i in range(input_size, len(train_data)):\n",
        "    x_train.append(train_data[i-input_size:i, 0])\n",
        "    y_train.append(train_data[i, 0])\n",
        "\n",
        "x_train, y_train = np.array(x_train), np.array(y_train)\n",
        "x_train = np.reshape(x_train, (x_train.shape[0], x_train.shape[1], 1))\n",
        "\n",
        "model = Sequential()\n",
        "model.add(LSTM(x_train.shape[1], return_sequences=True, input_shape=(x_train.shape[1], 1)))\n",
        "model.add(Dropout(0.2))\n",
        "model.add(LSTM(50, return_sequences=True))\n",
        "model.add(Dropout(0.2))\n",
        "model.add(LSTM(50))\n",
        "model.add(Dropout(0.2))\n",
        "model.add(Dense(1, activation='sigmoid'))\n",
        "\n",
        "model.compile(optimizer='adam', loss='binary_crossentropy', metrics=['accuracy'])\n",
        "model.fit(x_train, y_train, batch_size=1, epochs=3)"
      ],
      "metadata": {
        "id": "5qGFB5HfqcVd",
        "colab": {
          "base_uri": "https://localhost:8080/"
        },
        "outputId": "a8e4c898-5e67-4d2d-c6b4-5e0bd8a90f16"
      },
      "execution_count": 34,
      "outputs": [
        {
          "output_type": "stream",
          "name": "stdout",
          "text": [
            "Epoch 1/3\n",
            "6472/6472 [==============================] - 65s 9ms/step - loss: 0.0107 - accuracy: 0.0181\n",
            "Epoch 2/3\n",
            "6472/6472 [==============================] - 59s 9ms/step - loss: 0.0074 - accuracy: 0.0181\n",
            "Epoch 3/3\n",
            "6472/6472 [==============================] - 60s 9ms/step - loss: 0.0074 - accuracy: 0.0181\n"
          ]
        },
        {
          "output_type": "execute_result",
          "data": {
            "text/plain": [
              "<keras.callbacks.History at 0x7fd70898b2b0>"
            ]
          },
          "metadata": {},
          "execution_count": 34
        }
      ]
    },
    {
      "cell_type": "markdown",
      "source": [
        "# 3.) Test your model and compare insample Accurracy, insample random walk assumption Accuracy, Out of sample Accuracy and out of sample random walk assumption Accuracy using a bar chart"
      ],
      "metadata": {
        "id": "yFhO9vMjsWPk"
      }
    },
    {
      "cell_type": "code",
      "source": [
        "test_data = scaled_data[training_data_len - input_size:, :]\n",
        "\n",
        "x_test = []\n",
        "y_test = np.array(stock_data[[\"Close\"]].pct_change().dropna())[training_data_len:, :]\n",
        "for i in range(input_size, len(test_data)):\n",
        "    x_test.append(test_data[i-input_size:i, 0])\n",
        "\n",
        "x_test = np.array(x_test)\n",
        "x_test = np.reshape(x_test, (x_test.shape[0], x_test.shape[1], 1))\n",
        "\n",
        "test_predictions = model.predict(x_test)\n",
        "\n",
        "# Convert predictions to binary values (up or down)\n",
        "binary_test_predictions = []\n",
        "for i in range(len(test_predictions)):\n",
        "    if test_predictions[i] >= 0.5:\n",
        "        binary_test_predictions.append(1)\n",
        "    else:\n",
        "        binary_test_predictions.append(0)\n",
        "\n",
        "# Evaluate out of sample accuracy\n",
        "correct_test_predictions = 0\n",
        "for i in range(len(binary_test_predictions)):\n",
        "    if binary_test_predictions[i] == y_test[i]:\n",
        "        correct_test_predictions += 1\n",
        "outofsample_accuracy = correct_test_predictions / len(binary_test_predictions)\n",
        "print(f'Out of sample accuracy = {outofsample_accuracy}')"
      ],
      "metadata": {
        "id": "r1Xj6Ji-rwnM",
        "colab": {
          "base_uri": "https://localhost:8080/"
        },
        "outputId": "2deb4c21-0f1e-49b9-bcef-5612f0b2d092"
      },
      "execution_count": 35,
      "outputs": [
        {
          "output_type": "stream",
          "name": "stdout",
          "text": [
            "51/51 [==============================] - 2s 5ms/step\n",
            "Out of sample accuracy = 0.008641975308641974\n"
          ]
        }
      ]
    },
    {
      "cell_type": "code",
      "source": [
        "train_predictions = model.predict(x_train)\n",
        "\n",
        "binary_train_predictions = []\n",
        "for i in range(len(train_predictions)):\n",
        "    if train_predictions[i] >= 0.5:\n",
        "        binary_train_predictions.append(1)\n",
        "    else:\n",
        "        binary_train_predictions.append(0)\n",
        "\n",
        "# Evaluate insample accuracy\n",
        "correct_train_predictions = 0\n",
        "for i in range(len(binary_train_predictions)):\n",
        "    if binary_train_predictions[i] == y_train[i]:\n",
        "        correct_train_predictions += 1\n",
        "insample_accuracy = correct_train_predictions / len(binary_train_predictions)\n",
        "print(f'Insample accuracy = {insample_accuracy}')"
      ],
      "metadata": {
        "colab": {
          "base_uri": "https://localhost:8080/"
        },
        "id": "USAYho4pMVep",
        "outputId": "844635eb-f319-4587-dc64-97903e9f3095"
      },
      "execution_count": 36,
      "outputs": [
        {
          "output_type": "stream",
          "name": "stdout",
          "text": [
            "203/203 [==============================] - 1s 5ms/step\n",
            "Insample accuracy = 0.0180778739184178\n"
          ]
        }
      ]
    },
    {
      "cell_type": "code",
      "source": [
        "import random\n",
        "\n",
        "# Generate a list of random integers between 0 and 1\n",
        "rw_train_num = [random.randint(0, 1) for i in range(len(binary_train_predictions))]\n",
        "\n",
        "# Assign the list to a new variable\n",
        "rw_train = rw_train_num\n",
        "\n",
        "# Evaluate random walk insample accuracy\n",
        "correct_rw_train_predictions = 0\n",
        "for i in range(len(rw_train_num)):\n",
        "    if rw_train_num[i] == y_train[i]:\n",
        "        correct_rw_train_predictions += 1\n",
        "insample_rw_accuracy = correct_rw_train_predictions / len(rw_train_num)\n",
        "print(f'Random Walk Insample accuracy = {insample_rw_accuracy}')"
      ],
      "metadata": {
        "colab": {
          "base_uri": "https://localhost:8080/"
        },
        "id": "yNU7QdlBWrlR",
        "outputId": "9fa38106-e5a5-4149-f6f4-1a3b9478472b"
      },
      "execution_count": 37,
      "outputs": [
        {
          "output_type": "stream",
          "name": "stdout",
          "text": [
            "Random Walk Insample accuracy = 0.00865265760197775\n"
          ]
        }
      ]
    },
    {
      "cell_type": "code",
      "source": [
        "rw_test_num = [random.randint(0, 1) for i in range(len(binary_test_predictions))]\n",
        "\n",
        "# Assign the list to a new variable\n",
        "rw_test = rw_test_num\n",
        "\n",
        "# Evaluate random walk out of sample accuracy\n",
        "correct_rw_test_predictions = 0\n",
        "for i in range(len(rw_test_num)):\n",
        "    if rw_test_num[i] == y_test[i]:\n",
        "        correct_rw_test_predictions += 1\n",
        "outofsample_rw_accuracy = correct_rw_test_predictions / len(rw_test_num)\n",
        "print(f'Random Walk Out of Sample accuracy = {outofsample_rw_accuracy}')"
      ],
      "metadata": {
        "colab": {
          "base_uri": "https://localhost:8080/"
        },
        "id": "_xZk2lRbZsNl",
        "outputId": "1c479169-512b-4f99-c244-ee19b401cc99"
      },
      "execution_count": 40,
      "outputs": [
        {
          "output_type": "stream",
          "name": "stdout",
          "text": [
            "Random Walk Out of Sample accuracy = 0.0049382716049382715\n"
          ]
        }
      ]
    },
    {
      "cell_type": "code",
      "source": [
        "import matplotlib.pyplot as plt \n",
        "\n",
        "plt.figure(figsize = (8, 12))\n",
        "plt.bar(['Insample Mod Acc', 'Insample Random Walk Acc', 'Out of Sample Mod Acc', 'Out of Sample Random Walk Acc'], \n",
        "        [insample_accuracy, insample_rw_accuracy, outofsample_accuracy, outofsample_rw_accuracy])"
      ],
      "metadata": {
        "colab": {
          "base_uri": "https://localhost:8080/",
          "height": 718
        },
        "id": "RMdA2vDWVMRz",
        "outputId": "765f59c2-de6c-4657-861f-20a8b06038d6"
      },
      "execution_count": 39,
      "outputs": [
        {
          "output_type": "execute_result",
          "data": {
            "text/plain": [
              "<BarContainer object of 4 artists>"
            ]
          },
          "metadata": {},
          "execution_count": 39
        },
        {
          "output_type": "display_data",
          "data": {
            "text/plain": [
              "<Figure size 576x864 with 1 Axes>"
            ],
            "image/png": "[encoded data removed]"
          },
          "metadata": {
            "needs_background": "light"
          }
        }
      ]
    },
    {
      "cell_type": "markdown",
      "source": [
        "# 4.) Plot in and out of sample accuracy"
      ],
      "metadata": {
        "id": "8bncNwh8tKiE"
      }
    },
    {
      "cell_type": "code",
      "source": [
        "import matplotlib.pyplot as plt\n",
        "\n",
        "# Make predictions on full dataset\n",
        "\n",
        "test_predict = model.predict(x_test)\n",
        "test_predictions = (test_predict+1).reshape(1,-1) * np.cumprod(y_test+1)\n",
        "\n",
        "train_predict = model.predict(x_train)\n",
        "train_predictions = (train_predict+1).reshape(1,-1) * np.cumprod(y_train+1)\n",
        "\n",
        "plt.plot(stock_data[:training_data_len- input_size].index, np.cumprod(y_train+1), label=\"Training Data\")\n",
        "plt.plot(stock_data[:training_data_len- input_size].index, train_predictions[0], label=\"Training Predictions\")\n",
        "end_val = np.cumprod(y_train+1)[-1]\n",
        "test_predict = model.predict(x_test)\n",
        "test_predictions = (test_predict+1).reshape(1,-1) * (np.cumprod((y_test+1))*end_val)\n",
        "plt.plot(stock_data[training_data_len+1:].index, np.cumprod((y_test+1))*end_val,label=\"Test Data\")\n",
        "plt.plot(stock_data[training_data_len+1:].index, test_predictions[0], label=\"Test Predictions\")\n",
        "plt.xlabel(\"Date\")\n",
        "plt.ylabel(\"Stock Price\")\n",
        "plt.legend()\n",
        "plt.show()"
      ],
      "metadata": {
        "id": "d698mdExtfHp"
      },
      "execution_count": null,
      "outputs": []
    },
    {
      "cell_type": "markdown",
      "source": [
        "#5.) Write an observation/conclusion about the graphs from Q4 and Q3"
      ],
      "metadata": {
        "id": "bK_jyyEEtTUB"
      }
    },
    {
      "cell_type": "markdown",
      "source": [
        "The LSTM model performs better than the Random Walk. "
      ],
      "metadata": {
        "id": "Dm-TL_iXgRah"
      }
    },
    {
      "cell_type": "markdown",
      "source": [
        "# 6.) Create a parameter for number of lags in your input layer. Do a 3-fold CV to test three different time lags. i.e. Tested using 5,10,20 days of previous price data to forecast"
      ],
      "metadata": {
        "id": "pFtrp-lmtw6t"
      }
    },
    {
      "cell_type": "code",
      "source": [
        "from sklearn.model_selection import GridSearchCV\n",
        "from keras.wrappers.scikit_learn import KerasClassifier\n",
        "from keras.wrappers.scikit_learn import KerasRegressor\n",
        "\n",
        "# Define the Keras model\n",
        "def create_model():\n",
        "    model = Sequential()\n",
        "    model.add(LSTM(50))\n",
        "    model.add(Dense(1, activation='sigmoid'))\n",
        "    model.compile(loss='binary_crossentropy', optimizer='adam', metrics=['accuracy'])\n",
        "    return(model)\n",
        "\n",
        "# Wrap the Keras model in a scikit-learn compatible estimator\n",
        "model = KerasRegressor(build_fn=create_model, verbose=0)\n",
        "\n",
        "# Define the hyperparameters to search over\n",
        "param_grid = {'batch_size': [10, 20, 50],\n",
        "              'epochs': [1, 10]}\n",
        "\n",
        "# Perform the grid search over the hyperparameters\n",
        "grid = GridSearchCV(estimator=model, param_grid=param_grid, n_jobs=-1, cv=3)\n",
        "grid_result = grid.fit(x_train, y_train)\n",
        "\n",
        "# Print the results\n",
        "print(\"Best: %f using %s\" % (grid_result.best_score_, grid_result.best_params_))"
      ],
      "metadata": {
        "colab": {
          "base_uri": "https://localhost:8080/"
        },
        "id": "kEOQ6TO0-Fnw",
        "outputId": "963f9f9a-29fb-4479-9f14-7019ab5fdd19"
      },
      "execution_count": 29,
      "outputs": [
        {
          "output_type": "stream",
          "name": "stderr",
          "text": [
            "<ipython-input-29-32e24ccd2999>:14: DeprecationWarning: KerasRegressor is deprecated, use Sci-Keras (https://github.com/adriangb/scikeras) instead. See https://www.adriangb.com/scikeras/stable/migration.html for help migrating.\n",
            "  model = KerasRegressor(build_fn=create_model, verbose=0)\n"
          ]
        },
        {
          "output_type": "stream",
          "name": "stdout",
          "text": [
            "Best: -0.007158 using {'batch_size': 50, 'epochs': 1}\n"
          ]
        }
      ]
    }
  ]
}